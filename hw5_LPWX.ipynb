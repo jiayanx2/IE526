{
 "cells": [
  {
   "cell_type": "code",
   "execution_count": 121,
   "metadata": {},
   "outputs": [
    {
     "name": "stdout",
     "output_type": "stream",
     "text": [
      "0.142765202105\n",
      "0.143831618699\n"
     ]
    }
   ],
   "source": [
    "import matplotlib.pyplot as plt\n",
    "import numpy as np\n",
    "import pandas as pd\n",
    "from scipy.stats import norm\n",
    "import math\n",
    "\n",
    "def brownian_motion(T = 1, N = 100, mu = 0, sigma = 1, S0 = 0):        \n",
    "    dt = float(T)/N\n",
    "    t = np.linspace(1/100, T, N)\n",
    "    W = np.random.standard_normal(size = N) \n",
    "    S = np.cumsum(W)*np.sqrt(dt) ### standard brownian motion ###\n",
    "    return S[-1]\n",
    "\n",
    "N = 10000\n",
    "n = 1\n",
    "\n",
    "W_3 = np.zeros(N)\n",
    "W_2 = np.zeros(N)\n",
    "M_3 = np.zeros(N)\n",
    "e1 = np.zeros(N)\n",
    "W_3 = np.zeros(N)\n",
    "M_2 = np.zeros(N)\n",
    "e2 = np.zeros(N)\n",
    "\n",
    "for i in range(N):\n",
    "    W_2[i] = brownian_motion(2, 100,0, 1, 0)\n",
    "    W_3[i] = W_2[i]+brownian_motion(1, 100,0, 1, 0)\n",
    "    M_3[i] = norm.cdf((3 + W_3[i])/math.sqrt(5 - 3))\n",
    "    M_2[i] = norm.cdf((3 + W_2[i])/math.sqrt(5 - 2))\n",
    "    e1[i] = M_3[i]*math.pow(W_2[i],n)\n",
    "    e2[i] = M_2[i]*math.pow(W_2[i],n)\n",
    "    \n",
    "E1 = sum(e1)/N \n",
    "E2 = sum(e2)/N\n",
    "\n",
    "print(E1)\n",
    "print(E2)"
   ]
  },
  {
   "cell_type": "markdown",
   "metadata": {},
   "source": [
    "Set n = 1, E1 = 0.147225809969, E2 = 0.145043312678\n",
    "Set n = 2, E1 = 1.68814489106, E2 = 1.68538832392\n",
    "Set n = 6, E1 = 77.3345692121, E2 = 77.8077098498\n",
    "we can see E1 = E2 always hold numerically."
   ]
  }
 ],
 "metadata": {
  "kernelspec": {
   "display_name": "Python 3",
   "language": "python",
   "name": "python3"
  },
  "language_info": {
   "codemirror_mode": {
    "name": "ipython",
    "version": 3
   },
   "file_extension": ".py",
   "mimetype": "text/x-python",
   "name": "python",
   "nbconvert_exporter": "python",
   "pygments_lexer": "ipython3",
   "version": "3.6.3"
  }
 },
 "nbformat": 4,
 "nbformat_minor": 2
}
